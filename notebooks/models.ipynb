{
 "cells": [
  {
   "metadata": {},
   "cell_type": "markdown",
   "source": "Imports",
   "id": "d804150d088c82ad"
  },
  {
   "cell_type": "code",
   "id": "initial_id",
   "metadata": {
    "collapsed": true,
    "ExecuteTime": {
     "end_time": "2025-07-05T20:25:00.014081Z",
     "start_time": "2025-07-05T20:24:59.884190Z"
    }
   },
   "source": [
    "import pandas as pd\n",
    "import matplotlib.pyplot as plt\n",
    "import seaborn as sns\n",
    "from sklearn.model_selection import train_test_split\n",
    "from sklearn.model_selection import GridSearchCV\n",
    "from sklearn.ensemble import RandomForestClassifier\n",
    "from sklearn.metrics import accuracy_score, f1_score\n",
    "from sklearn.model_selection import GridSearchCV\n",
    "from lightgbm import LGBMClassifier\n",
    "from sklearn.linear_model import LogisticRegression\n",
    "from sklearn.metrics import confusion_matrix"
   ],
   "outputs": [],
   "execution_count": 17
  },
  {
   "metadata": {},
   "cell_type": "markdown",
   "source": "Reading data from csv",
   "id": "cebb9022bca0790b"
  },
  {
   "metadata": {
    "ExecuteTime": {
     "end_time": "2025-07-05T18:02:52.329252Z",
     "start_time": "2025-07-05T18:02:48.611144Z"
    }
   },
   "cell_type": "code",
   "source": "df = pd.read_csv('../data/prepared_data.csv')",
   "id": "d7a69083171e130c",
   "outputs": [],
   "execution_count": 2
  },
  {
   "metadata": {},
   "cell_type": "markdown",
   "source": "Split into training and test sets",
   "id": "8c44a0fc19165af7"
  },
  {
   "metadata": {
    "ExecuteTime": {
     "end_time": "2025-07-05T18:05:11.193346Z",
     "start_time": "2025-07-05T18:05:07.319801Z"
    }
   },
   "cell_type": "code",
   "source": [
    "X = df.drop(\"isFraud\", axis=1)\n",
    "y = df[\"isFraud\"]\n",
    "\n",
    "X_train, X_test, y_train, y_test = train_test_split(\n",
    "    X, y, test_size=0.2, random_state=42, stratify=y\n",
    ")"
   ],
   "id": "34398480fe4b8e39",
   "outputs": [],
   "execution_count": 5
  },
  {
   "metadata": {},
   "cell_type": "markdown",
   "source": "Random Forest",
   "id": "a0b935fdf8c894dc"
  },
  {
   "metadata": {
    "ExecuteTime": {
     "end_time": "2025-07-05T20:08:56.390773Z",
     "start_time": "2025-07-05T18:50:24.389401Z"
    }
   },
   "cell_type": "code",
   "source": [
    "param_grid = {\n",
    "    'n_estimators': [100, 200],\n",
    "    'max_depth': [10, 20],\n",
    "    'min_samples_split': [2, 5],\n",
    "    'class_weight': ['balanced']\n",
    "}\n",
    "\n",
    "rf = RandomForestClassifier(random_state=42)\n",
    "grid_search = GridSearchCV(rf, param_grid, cv=3, scoring='f1', n_jobs=-1)\n",
    "grid_search.fit(X_train, y_train)\n",
    "\n",
    "print(\"Best params:\", grid_search.best_params_)\n",
    "\n",
    "best_model = grid_search.best_estimator_\n",
    "\n",
    "y_pred = best_model.predict(X_test)\n",
    "\n",
    "acc_rf = accuracy_score(y_test, y_pred)\n",
    "f1_rf = f1_score(y_test, y_pred)\n",
    "\n",
    "print(f\"Accuracy: {acc_rf:.2f}\")\n",
    "print(f\"F1-score: {f1_rf:.2f}\")"
   ],
   "id": "e1b8e1b3b88046f9",
   "outputs": [
    {
     "name": "stdout",
     "output_type": "stream",
     "text": [
      "Best params: {'class_weight': 'balanced', 'max_depth': 20, 'min_samples_split': 2, 'n_estimators': 200}\n",
      "Accuracy: 1.00\n",
      "F1-score: 0.74\n"
     ]
    }
   ],
   "execution_count": 9
  },
  {
   "metadata": {},
   "cell_type": "markdown",
   "source": "LightGBM",
   "id": "7d35fb9dcf0df2ef"
  },
  {
   "metadata": {
    "ExecuteTime": {
     "end_time": "2025-07-05T20:15:09.455339Z",
     "start_time": "2025-07-05T20:09:20.070833Z"
    }
   },
   "cell_type": "code",
   "source": [
    "param_grid_lgb = {\n",
    "    'n_estimators': [100, 200],\n",
    "    'max_depth': [10, 20],\n",
    "    'num_leaves': [31, 50],\n",
    "    'class_weight': ['balanced']\n",
    "}\n",
    "\n",
    "lgb = LGBMClassifier(random_state=42)\n",
    "grid_search_lgb = GridSearchCV(lgb, param_grid_lgb, cv=3, scoring='f1', n_jobs=-1)\n",
    "grid_search_lgb.fit(X_train, y_train)\n",
    "\n",
    "print(\"LightGBM best params:\", grid_search_lgb.best_params_)\n",
    "\n",
    "best_lgb = grid_search_lgb.best_estimator_\n",
    "y_pred_lgb = best_lgb.predict(X_test)\n",
    "\n",
    "acc_lgb = accuracy_score(y_test, y_pred_lgb)\n",
    "f1_lgb = f1_score(y_test, y_pred_lgb)\n",
    "\n",
    "print(f\"LightGBM Accuracy: {acc_lgb:.2f}\")\n",
    "print(f\"LightGBM F1-score: {f1_lgb:.2f}\")"
   ],
   "id": "89bfacb8c550a5ad",
   "outputs": [
    {
     "name": "stderr",
     "output_type": "stream",
     "text": [
      "C:\\Users\\Szymon\\AppData\\Local\\Programs\\Python\\Python313\\Lib\\site-packages\\joblib\\externals\\loky\\backend\\context.py:136: UserWarning: Could not find the number of physical cores for the following reason:\n",
      "[WinError 2] Nie można odnaleźć określonego pliku\n",
      "Returning the number of logical cores instead. You can silence this warning by setting LOKY_MAX_CPU_COUNT to the number of cores you want to use.\n",
      "  warnings.warn(\n",
      "  File \"C:\\Users\\Szymon\\AppData\\Local\\Programs\\Python\\Python313\\Lib\\site-packages\\joblib\\externals\\loky\\backend\\context.py\", line 257, in _count_physical_cores\n",
      "    cpu_info = subprocess.run(\n",
      "        \"wmic CPU Get NumberOfCores /Format:csv\".split(),\n",
      "        capture_output=True,\n",
      "        text=True,\n",
      "    )\n",
      "  File \"C:\\Users\\Szymon\\AppData\\Local\\Programs\\Python\\Python313\\Lib\\subprocess.py\", line 556, in run\n",
      "    with Popen(*popenargs, **kwargs) as process:\n",
      "         ~~~~~^^^^^^^^^^^^^^^^^^^^^^\n",
      "  File \"C:\\Users\\Szymon\\AppData\\Local\\Programs\\Python\\Python313\\Lib\\subprocess.py\", line 1038, in __init__\n",
      "    self._execute_child(args, executable, preexec_fn, close_fds,\n",
      "    ~~~~~~~~~~~~~~~~~~~^^^^^^^^^^^^^^^^^^^^^^^^^^^^^^^^^^^^^^^^^\n",
      "                        pass_fds, cwd, env,\n",
      "                        ^^^^^^^^^^^^^^^^^^^\n",
      "    ...<5 lines>...\n",
      "                        gid, gids, uid, umask,\n",
      "                        ^^^^^^^^^^^^^^^^^^^^^^\n",
      "                        start_new_session, process_group)\n",
      "                        ^^^^^^^^^^^^^^^^^^^^^^^^^^^^^^^^^\n",
      "  File \"C:\\Users\\Szymon\\AppData\\Local\\Programs\\Python\\Python313\\Lib\\subprocess.py\", line 1550, in _execute_child\n",
      "    hp, ht, pid, tid = _winapi.CreateProcess(executable, args,\n",
      "                       ~~~~~~~~~~~~~~~~~~~~~^^^^^^^^^^^^^^^^^^\n",
      "                             # no special security\n",
      "                             ^^^^^^^^^^^^^^^^^^^^^\n",
      "    ...<4 lines>...\n",
      "                             cwd,\n",
      "                             ^^^^\n",
      "                             startupinfo)\n",
      "                             ^^^^^^^^^^^^\n"
     ]
    },
    {
     "name": "stdout",
     "output_type": "stream",
     "text": [
      "[LightGBM] [Info] Number of positive: 6570, number of negative: 5083526\n",
      "[LightGBM] [Info] Auto-choosing row-wise multi-threading, the overhead of testing was 0.023615 seconds.\n",
      "You can set `force_row_wise=true` to remove the overhead.\n",
      "And if memory is not enough, you can set `force_col_wise=true`.\n",
      "[LightGBM] [Info] Total Bins 1285\n",
      "[LightGBM] [Info] Number of data points in the train set: 5090096, number of used features: 10\n",
      "[LightGBM] [Info] [binary:BoostFromScore]: pavg=0.500000 -> initscore=-0.000000\n",
      "[LightGBM] [Info] Start training from score -0.000000\n",
      "LightGBM best params: {'class_weight': 'balanced', 'max_depth': 20, 'n_estimators': 200, 'num_leaves': 50}\n",
      "LightGBM Accuracy: 1.00\n",
      "LightGBM F1-score: 0.69\n"
     ]
    }
   ],
   "execution_count": 12
  },
  {
   "metadata": {},
   "cell_type": "markdown",
   "source": "Logistic Regression",
   "id": "36d11a0e1214de94"
  },
  {
   "metadata": {
    "ExecuteTime": {
     "end_time": "2025-07-05T20:20:06.895792Z",
     "start_time": "2025-07-05T20:15:27.078061Z"
    }
   },
   "cell_type": "code",
   "source": [
    "param_grid_logreg = {\n",
    "    'penalty': ['l2'],\n",
    "    'C': [0.1, 1.0, 10.0],\n",
    "    'class_weight': ['balanced'],\n",
    "    'solver': ['liblinear', 'lbfgs']\n",
    "}\n",
    "\n",
    "logreg = LogisticRegression(random_state=42, max_iter=500)\n",
    "grid_search_logreg = GridSearchCV(logreg, param_grid_logreg, cv=3, scoring='f1', n_jobs=-1)\n",
    "grid_search_logreg.fit(X_train, y_train)\n",
    "\n",
    "print(\"LogisticRegression best params:\", grid_search_logreg.best_params_)\n",
    "\n",
    "best_logreg = grid_search_logreg.best_estimator_\n",
    "y_pred_logreg = best_logreg.predict(X_test)\n",
    "\n",
    "acc_logreg = accuracy_score(y_test, y_pred_logreg)\n",
    "f1_logreg = f1_score(y_test, y_pred_logreg)\n",
    "\n",
    "print(f\"LogReg Accuracy: {acc_logreg:.2f}\")\n",
    "print(f\"LogReg F1-score: {f1_logreg:.2f}\")"
   ],
   "id": "186242b436115d01",
   "outputs": [
    {
     "name": "stdout",
     "output_type": "stream",
     "text": [
      "LogisticRegression best params: {'C': 0.1, 'class_weight': 'balanced', 'penalty': 'l2', 'solver': 'liblinear'}\n",
      "LogReg Accuracy: 0.96\n",
      "LogReg F1-score: 0.05\n"
     ]
    }
   ],
   "execution_count": 13
  },
  {
   "metadata": {},
   "cell_type": "markdown",
   "source": "Model deployment",
   "id": "9409e0d1bf1036ea"
  },
  {
   "metadata": {
    "ExecuteTime": {
     "end_time": "2025-07-05T20:29:16.199411Z",
     "start_time": "2025-07-05T20:29:16.123704Z"
    }
   },
   "cell_type": "code",
   "source": [
    "import joblib\n",
    "\n",
    "joblib.dump(best_model, \"../model/randomforest_model.pkl\")"
   ],
   "id": "dbec0e1937a4b236",
   "outputs": [
    {
     "data": {
      "text/plain": [
       "['../model/randomforest_model.pkl']"
      ]
     },
     "execution_count": 21,
     "metadata": {},
     "output_type": "execute_result"
    }
   ],
   "execution_count": 21
  }
 ],
 "metadata": {
  "kernelspec": {
   "display_name": "Python 3",
   "language": "python",
   "name": "python3"
  },
  "language_info": {
   "codemirror_mode": {
    "name": "ipython",
    "version": 2
   },
   "file_extension": ".py",
   "mimetype": "text/x-python",
   "name": "python",
   "nbconvert_exporter": "python",
   "pygments_lexer": "ipython2",
   "version": "2.7.6"
  }
 },
 "nbformat": 4,
 "nbformat_minor": 5
}
